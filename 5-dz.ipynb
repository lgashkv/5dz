documents = [
{'type': 'passport', 'number': '2207 876234', 'name': 'Василий Гупкин'},
{'type': 'invoice', 'number': '11-2', 'name': 'Геннадий Покемонов'},
{'type': 'insurance', 'number': '10006', 'name': 'Аристарх Павлов'}
]


directories = {
'1': ['2207 876234', '11-2'],
'2': ['10006'],
'3': []
}

def doc(documents):
    user_1 = input('Введите номер документа:')
    for num in documents:
        if user_1 == num['number']:
            print('Владелец документа:', num['name'])
            return
    else:
        print('Документ не найден в базе')


def dic(directories):
    user_2 = input('Введите номер документа:')
    for k,v in directories.items():
        for n in v:
            if user_2 == n:
                print('Документ хранится на полке:', k)
    return


def polki(directories):
    user_4 = input('Введите номер полки:')
    for k,v in directories.items():
            if user_4 == k:
                print('Такая полка уже существует Текущий перечень полок:',', '.join(directories.keys()))
                return
    else:
        directories[user_4] = ''
        print('Полка добавлена:', ', '.join(directories.keys()))

def allinform(documents):
    for num in documents:
        for k,v in directories.items():
            if num['number'] in v:
                print('№:', num['number'], 'тип:',num['type'],'владелец:',num['name'],'полка хранения:',k) 
                
def dicfall(directories):
    user_5 = input('Введите номер полки:')
    if user_5 in directories.keys()  and len(directories.get(user_5)) == 0:
        print('Полка удалена. Текущий перечень полок:', ', '.join(directories.keys()))
    elif user_5 in directories.keys()  and len(directories.get(user_5)) != 0:
        print('На полке есть документа, удалите их перед удалением полки.', ', '.join(directories.keys()))  
    else:
        print('Такой полки не существует. Текущий перечень полок:', ', '.join(directories.keys()))


def all(documents):
    while True:
        user = input('Введите команду:')
        if user == 'p':
            doc(documents)
        elif user == 's':
            dic(directories)
        elif user == 'ds':
            dicfall(directories)
        elif user == 'as':
            polki(directories) 
        elif user == 'l':
            allinform(documents)

all(documents)
